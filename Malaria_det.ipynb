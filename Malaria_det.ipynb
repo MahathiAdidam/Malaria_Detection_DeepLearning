{
 "cells": [
  {
   "cell_type": "code",
   "execution_count": 3,
   "id": "b1ec5d03-f0f1-4309-9153-8fd1f74d6fad",
   "metadata": {},
   "outputs": [
    {
     "name": "stderr",
     "output_type": "stream",
     "text": [
      "WARNING:absl:Compiled the loaded model, but the compiled metrics have yet to be built. `model.compile_metrics` will be empty until you train or evaluate the model.\n"
     ]
    },
    {
     "data": {
      "text/plain": [
       "DeltaGenerator()"
      ]
     },
     "execution_count": 3,
     "metadata": {},
     "output_type": "execute_result"
    }
   ],
   "source": [
    "# Importing necessary libraries\n",
    "import numpy as np\n",
    "import matplotlib.pyplot as plt\n",
    "import cv2\n",
    "import tensorflow as tf\n",
    "from tensorflow.keras.models import load_model\n",
    "import streamlit as st\n",
    "import streamlit.components.v1 as components\n",
    "\n",
    "# Function to load data\n",
    "def load_data():\n",
    "    data = np.load('data_split.npz')\n",
    "    X_test = data['X_test']\n",
    "    y_test = data['y_test']\n",
    "    return X_test, y_test\n",
    "\n",
    "# Function to get Grad-CAM heatmap\n",
    "def get_grad_cam(model, img_array, layer_name='conv2d_2'):\n",
    "    grad_model = tf.keras.models.Model([model.inputs], [model.get_layer(layer_name).output, model.output])\n",
    "    with tf.GradientTape() as tape:\n",
    "        conv_outputs, predictions = grad_model(img_array)\n",
    "        loss = predictions[:, 0]\n",
    "    output = conv_outputs[0]\n",
    "    grads = tape.gradient(loss, conv_outputs)[0]\n",
    "    gate_f = tf.cast(output > 0, 'float32')\n",
    "    gate_r = tf.cast(grads > 0, 'float32')\n",
    "    guided_grads = gate_f * gate_r * grads\n",
    "    weights = tf.reduce_mean(guided_grads, axis=(0, 1))\n",
    "    cam = np.zeros(output.shape[0:2], dtype=np.float32)\n",
    "    for i, w in enumerate(weights):\n",
    "        cam += w * output[:, :, i]\n",
    "    cam = cv2.resize(cam.numpy(), (64, 64))\n",
    "    cam = np.maximum(cam, 0)\n",
    "    heatmap = (cam - cam.min()) / (cam.max() - cam.min())\n",
    "    return heatmap\n",
    "\n",
    "# Load data and model\n",
    "X_test, y_test = load_data()\n",
    "model = load_model('models/malaria_model.h5')\n",
    "\n",
    "# Streamlit app\n",
    "st.title('Malaria Cell Classification')\n",
    "uploaded_file = st.file_uploader('Choose an image...', type=['jpg', 'png'])\n",
    "\n",
    "if uploaded_file is not None:\n",
    "    file_bytes = np.asarray(bytearray(uploaded_file.read()), dtype=np.uint8)\n",
    "    img = cv2.imdecode(file_bytes, 1)\n",
    "    img = cv2.resize(img, (64, 64))\n",
    "    img_array = np.expand_dims(img, axis=0)\n",
    "    prediction = model.predict(img_array)\n",
    "    heatmap = get_grad_cam(model, img_array)\n",
    "    fig, ax = plt.subplots()\n",
    "    ax.imshow(img)\n",
    "    ax.imshow(heatmap, cmap='jet', alpha=0.5)\n",
    "    st.pyplot(fig)\n",
    "    st.write('Prediction: Parasitized' if prediction[0] > 0.5 else 'Prediction: Uninfected')\n",
    "\n",
    "components.html(\n",
    "    \"\"\"\n",
    "    <style>\n",
    "    .sidebar .sidebar-content {\n",
    "        width: 300px;\n",
    "    }\n",
    "    </style>\n",
    "    \"\"\",\n",
    "    height=0\n",
    ")\n"
   ]
  }
 ],
 "metadata": {
  "kernelspec": {
   "display_name": "Python 3 (ipykernel)",
   "language": "python",
   "name": "python3"
  },
  "language_info": {
   "codemirror_mode": {
    "name": "ipython",
    "version": 3
   },
   "file_extension": ".py",
   "mimetype": "text/x-python",
   "name": "python",
   "nbconvert_exporter": "python",
   "pygments_lexer": "ipython3",
   "version": "3.12.4"
  }
 },
 "nbformat": 4,
 "nbformat_minor": 5
}
